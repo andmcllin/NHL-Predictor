{
 "cells": [
  {
   "cell_type": "code",
   "execution_count": 1,
   "metadata": {},
   "outputs": [],
   "source": [
    "from CreateNHLModel import createModel"
   ]
  },
  {
   "cell_type": "code",
   "execution_count": 2,
   "metadata": {},
   "outputs": [
    {
     "name": "stdout",
     "output_type": "stream",
     "text": [
      "Epoch 1/100\n",
      "82/82 [==============================] - 1s 4ms/step - loss: 0.6530 - accuracy: 0.6166 - val_loss: 0.6541 - val_accuracy: 0.6460\n",
      "Epoch 2/100\n",
      "82/82 [==============================] - 0s 2ms/step - loss: 0.6431 - accuracy: 0.6323 - val_loss: 0.6551 - val_accuracy: 0.6357\n",
      "Epoch 3/100\n",
      "82/82 [==============================] - 0s 2ms/step - loss: 0.6391 - accuracy: 0.6323 - val_loss: 0.6515 - val_accuracy: 0.6380\n",
      "Epoch 4/100\n",
      "82/82 [==============================] - 0s 2ms/step - loss: 0.6368 - accuracy: 0.6346 - val_loss: 0.6535 - val_accuracy: 0.6403\n",
      "Epoch 5/100\n",
      "82/82 [==============================] - 0s 2ms/step - loss: 0.6350 - accuracy: 0.6399 - val_loss: 0.6556 - val_accuracy: 0.6346\n",
      "Epoch 6/100\n",
      "82/82 [==============================] - 0s 2ms/step - loss: 0.6313 - accuracy: 0.6453 - val_loss: 0.6557 - val_accuracy: 0.6380\n",
      "Epoch 6: early stopping\n"
     ]
    }
   ],
   "source": [
    "createModel()"
   ]
  }
 ],
 "metadata": {
  "kernelspec": {
   "display_name": "Python 3",
   "language": "python",
   "name": "python3"
  },
  "language_info": {
   "codemirror_mode": {
    "name": "ipython",
    "version": 3
   },
   "file_extension": ".py",
   "mimetype": "text/x-python",
   "name": "python",
   "nbconvert_exporter": "python",
   "pygments_lexer": "ipython3",
   "version": "3.10.11"
  }
 },
 "nbformat": 4,
 "nbformat_minor": 2
}
