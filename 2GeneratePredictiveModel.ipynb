{
 "cells": [
  {
   "cell_type": "code",
   "execution_count": 1,
   "metadata": {},
   "outputs": [],
   "source": [
    "from CreateNHLModel import createModel"
   ]
  },
  {
   "cell_type": "code",
   "execution_count": 2,
   "metadata": {},
   "outputs": [
    {
     "name": "stdout",
     "output_type": "stream",
     "text": [
      "Epoch 1/100\n",
      "19/19 [==============================] - 1s 15ms/step - loss: 0.6952 - accuracy: 0.5159 - val_loss: 0.6799 - val_accuracy: 0.6050\n",
      "Epoch 2/100\n",
      "19/19 [==============================] - 0s 5ms/step - loss: 0.6830 - accuracy: 0.5693 - val_loss: 0.6650 - val_accuracy: 0.6500\n",
      "Epoch 3/100\n",
      "19/19 [==============================] - 0s 5ms/step - loss: 0.6750 - accuracy: 0.5710 - val_loss: 0.6561 - val_accuracy: 0.6350\n",
      "Epoch 4/100\n",
      "19/19 [==============================] - 0s 6ms/step - loss: 0.6707 - accuracy: 0.5960 - val_loss: 0.6544 - val_accuracy: 0.6350\n",
      "Epoch 5/100\n",
      "19/19 [==============================] - 0s 3ms/step - loss: 0.6657 - accuracy: 0.6043 - val_loss: 0.6569 - val_accuracy: 0.6500\n",
      "Epoch 6/100\n",
      "19/19 [==============================] - 0s 6ms/step - loss: 0.6624 - accuracy: 0.6010 - val_loss: 0.6501 - val_accuracy: 0.6550\n",
      "Epoch 7/100\n",
      "19/19 [==============================] - 0s 4ms/step - loss: 0.6537 - accuracy: 0.6194 - val_loss: 0.6542 - val_accuracy: 0.6500\n",
      "Epoch 8/100\n",
      "19/19 [==============================] - 0s 4ms/step - loss: 0.6522 - accuracy: 0.6160 - val_loss: 0.6578 - val_accuracy: 0.6400\n",
      "Epoch 9/100\n",
      "19/19 [==============================] - 0s 4ms/step - loss: 0.6435 - accuracy: 0.6544 - val_loss: 0.6613 - val_accuracy: 0.6300\n",
      "Epoch 9: early stopping\n"
     ]
    },
    {
     "data": {
      "text/plain": [
       "0"
      ]
     },
     "execution_count": 2,
     "metadata": {},
     "output_type": "execute_result"
    }
   ],
   "source": [
    "createModel()"
   ]
  }
 ],
 "metadata": {
  "kernelspec": {
   "display_name": "Python 3",
   "language": "python",
   "name": "python3"
  },
  "language_info": {
   "codemirror_mode": {
    "name": "ipython",
    "version": 3
   },
   "file_extension": ".py",
   "mimetype": "text/x-python",
   "name": "python",
   "nbconvert_exporter": "python",
   "pygments_lexer": "ipython3",
   "version": "3.11.4"
  }
 },
 "nbformat": 4,
 "nbformat_minor": 2
}
