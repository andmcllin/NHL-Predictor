{
 "cells": [
  {
   "cell_type": "code",
   "execution_count": 55,
   "metadata": {},
   "outputs": [],
   "source": [
    "from CreateNHLModel import createModel"
   ]
  },
  {
   "cell_type": "code",
   "execution_count": 56,
   "metadata": {},
   "outputs": [
    {
     "name": "stdout",
     "output_type": "stream",
     "text": [
      "Epoch 1/100\n",
      "12/12 [==============================] - 1s 17ms/step - loss: 0.6962 - accuracy: 0.4738 - val_loss: 0.6914 - val_accuracy: 0.5124\n",
      "Epoch 2/100\n",
      "12/12 [==============================] - 0s 6ms/step - loss: 0.6910 - accuracy: 0.5344 - val_loss: 0.6880 - val_accuracy: 0.5537\n",
      "Epoch 3/100\n",
      "12/12 [==============================] - 0s 6ms/step - loss: 0.6873 - accuracy: 0.5868 - val_loss: 0.6820 - val_accuracy: 0.5620\n",
      "Epoch 4/100\n",
      "12/12 [==============================] - 0s 4ms/step - loss: 0.6828 - accuracy: 0.6061 - val_loss: 0.6772 - val_accuracy: 0.5620\n",
      "Epoch 5/100\n",
      "12/12 [==============================] - 0s 5ms/step - loss: 0.6736 - accuracy: 0.5978 - val_loss: 0.6680 - val_accuracy: 0.5785\n",
      "Epoch 6/100\n",
      "12/12 [==============================] - 0s 5ms/step - loss: 0.6660 - accuracy: 0.6033 - val_loss: 0.6647 - val_accuracy: 0.5950\n",
      "Epoch 7/100\n",
      "12/12 [==============================] - 0s 6ms/step - loss: 0.6552 - accuracy: 0.6116 - val_loss: 0.6643 - val_accuracy: 0.5868\n",
      "Epoch 8/100\n",
      "12/12 [==============================] - 0s 5ms/step - loss: 0.6485 - accuracy: 0.6143 - val_loss: 0.6629 - val_accuracy: 0.5785\n",
      "Epoch 9/100\n",
      "12/12 [==============================] - 0s 6ms/step - loss: 0.6361 - accuracy: 0.6364 - val_loss: 0.6585 - val_accuracy: 0.6033\n",
      "Epoch 10/100\n",
      "12/12 [==============================] - 0s 5ms/step - loss: 0.6290 - accuracy: 0.6556 - val_loss: 0.6525 - val_accuracy: 0.6033\n",
      "Epoch 11/100\n",
      "12/12 [==============================] - 0s 5ms/step - loss: 0.6242 - accuracy: 0.6639 - val_loss: 0.6502 - val_accuracy: 0.6281\n",
      "Epoch 12/100\n",
      "12/12 [==============================] - 0s 6ms/step - loss: 0.6271 - accuracy: 0.6446 - val_loss: 0.6484 - val_accuracy: 0.6198\n",
      "Epoch 13/100\n",
      "12/12 [==============================] - 0s 3ms/step - loss: 0.6146 - accuracy: 0.6584 - val_loss: 0.6535 - val_accuracy: 0.6529\n",
      "Epoch 14/100\n",
      "12/12 [==============================] - 0s 3ms/step - loss: 0.6058 - accuracy: 0.6832 - val_loss: 0.6490 - val_accuracy: 0.6446\n",
      "Epoch 15/100\n",
      "12/12 [==============================] - 0s 3ms/step - loss: 0.5991 - accuracy: 0.6942 - val_loss: 0.6502 - val_accuracy: 0.6529\n",
      "Epoch 15: early stopping\n"
     ]
    },
    {
     "data": {
      "text/plain": [
       "0"
      ]
     },
     "execution_count": 56,
     "metadata": {},
     "output_type": "execute_result"
    }
   ],
   "source": [
    "createModel()"
   ]
  }
 ],
 "metadata": {
  "kernelspec": {
   "display_name": "Python 3",
   "language": "python",
   "name": "python3"
  },
  "language_info": {
   "codemirror_mode": {
    "name": "ipython",
    "version": 3
   },
   "file_extension": ".py",
   "mimetype": "text/x-python",
   "name": "python",
   "nbconvert_exporter": "python",
   "pygments_lexer": "ipython3",
   "version": "3.10.11"
  }
 },
 "nbformat": 4,
 "nbformat_minor": 2
}
