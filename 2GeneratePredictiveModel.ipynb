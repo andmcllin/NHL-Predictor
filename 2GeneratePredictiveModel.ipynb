{
 "cells": [
  {
   "cell_type": "code",
   "execution_count": 13,
   "metadata": {},
   "outputs": [],
   "source": [
    "from CreateNHLModel import createModel"
   ]
  },
  {
   "cell_type": "code",
   "execution_count": 14,
   "metadata": {},
   "outputs": [
    {
     "name": "stdout",
     "output_type": "stream",
     "text": [
      "Epoch 1/100\n",
      "12/12 [==============================] - 1s 17ms/step - loss: 0.6919 - accuracy: 0.5372 - val_loss: 0.6910 - val_accuracy: 0.5455\n",
      "Epoch 2/100\n",
      "12/12 [==============================] - 0s 5ms/step - loss: 0.6830 - accuracy: 0.5923 - val_loss: 0.6844 - val_accuracy: 0.6198\n",
      "Epoch 3/100\n",
      "12/12 [==============================] - 0s 5ms/step - loss: 0.6731 - accuracy: 0.5950 - val_loss: 0.6795 - val_accuracy: 0.6033\n",
      "Epoch 4/100\n",
      "12/12 [==============================] - 0s 3ms/step - loss: 0.6661 - accuracy: 0.6143 - val_loss: 0.6813 - val_accuracy: 0.5868\n",
      "Epoch 5/100\n",
      "12/12 [==============================] - 0s 5ms/step - loss: 0.6585 - accuracy: 0.6033 - val_loss: 0.6762 - val_accuracy: 0.5620\n",
      "Epoch 6/100\n",
      "12/12 [==============================] - 0s 3ms/step - loss: 0.6466 - accuracy: 0.6474 - val_loss: 0.6774 - val_accuracy: 0.5620\n",
      "Epoch 7/100\n",
      "12/12 [==============================] - 0s 3ms/step - loss: 0.6445 - accuracy: 0.6419 - val_loss: 0.6825 - val_accuracy: 0.5702\n",
      "Epoch 8/100\n",
      "12/12 [==============================] - 0s 5ms/step - loss: 0.6337 - accuracy: 0.6612 - val_loss: 0.6760 - val_accuracy: 0.5702\n",
      "Epoch 9/100\n",
      "12/12 [==============================] - 0s 3ms/step - loss: 0.6242 - accuracy: 0.6749 - val_loss: 0.6894 - val_accuracy: 0.5372\n",
      "Epoch 10/100\n",
      "12/12 [==============================] - 0s 3ms/step - loss: 0.6210 - accuracy: 0.6749 - val_loss: 0.6897 - val_accuracy: 0.5372\n",
      "Epoch 11/100\n",
      "12/12 [==============================] - 0s 3ms/step - loss: 0.6143 - accuracy: 0.6722 - val_loss: 0.6910 - val_accuracy: 0.5620\n",
      "Epoch 11: early stopping\n"
     ]
    },
    {
     "data": {
      "text/plain": [
       "0"
      ]
     },
     "execution_count": 14,
     "metadata": {},
     "output_type": "execute_result"
    }
   ],
   "source": [
    "createModel()"
   ]
  }
 ],
 "metadata": {
  "kernelspec": {
   "display_name": "Python 3",
   "language": "python",
   "name": "python3"
  },
  "language_info": {
   "codemirror_mode": {
    "name": "ipython",
    "version": 3
   },
   "file_extension": ".py",
   "mimetype": "text/x-python",
   "name": "python",
   "nbconvert_exporter": "python",
   "pygments_lexer": "ipython3",
   "version": "3.10.11"
  }
 },
 "nbformat": 4,
 "nbformat_minor": 2
}
