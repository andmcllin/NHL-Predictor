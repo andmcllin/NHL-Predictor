{
 "cells": [
  {
   "cell_type": "code",
   "execution_count": 2,
   "metadata": {},
   "outputs": [],
   "source": [
    "from CreateNHLModel import createModel"
   ]
  },
  {
   "cell_type": "code",
   "execution_count": 8,
   "metadata": {},
   "outputs": [
    {
     "name": "stdout",
     "output_type": "stream",
     "text": [
      "Epoch 1/100\n",
      "19/19 [==============================] - 1s 10ms/step - loss: 0.6933 - accuracy: 0.5008 - val_loss: 0.6897 - val_accuracy: 0.5450\n",
      "Epoch 2/100\n",
      "19/19 [==============================] - 0s 2ms/step - loss: 0.6857 - accuracy: 0.5593 - val_loss: 0.6901 - val_accuracy: 0.5200\n",
      "Epoch 3/100\n",
      "19/19 [==============================] - 0s 4ms/step - loss: 0.6823 - accuracy: 0.5492 - val_loss: 0.6858 - val_accuracy: 0.5900\n",
      "Epoch 4/100\n",
      "19/19 [==============================] - 0s 3ms/step - loss: 0.6782 - accuracy: 0.5810 - val_loss: 0.6873 - val_accuracy: 0.5700\n",
      "Epoch 5/100\n",
      "19/19 [==============================] - 0s 2ms/step - loss: 0.6709 - accuracy: 0.5993 - val_loss: 0.6860 - val_accuracy: 0.5700\n",
      "Epoch 6/100\n",
      "19/19 [==============================] - 0s 4ms/step - loss: 0.6639 - accuracy: 0.6010 - val_loss: 0.6777 - val_accuracy: 0.5800\n",
      "Epoch 7/100\n",
      "19/19 [==============================] - 0s 4ms/step - loss: 0.6576 - accuracy: 0.6144 - val_loss: 0.6694 - val_accuracy: 0.6000\n",
      "Epoch 8/100\n",
      "19/19 [==============================] - 0s 2ms/step - loss: 0.6455 - accuracy: 0.6260 - val_loss: 0.6740 - val_accuracy: 0.5950\n",
      "Epoch 9/100\n",
      "19/19 [==============================] - 0s 2ms/step - loss: 0.6414 - accuracy: 0.6311 - val_loss: 0.6852 - val_accuracy: 0.5900\n",
      "Epoch 10/100\n",
      "19/19 [==============================] - 0s 4ms/step - loss: 0.6340 - accuracy: 0.6427 - val_loss: 0.6676 - val_accuracy: 0.5800\n",
      "Epoch 11/100\n",
      "19/19 [==============================] - 0s 4ms/step - loss: 0.6315 - accuracy: 0.6294 - val_loss: 0.6600 - val_accuracy: 0.6000\n",
      "Epoch 12/100\n",
      "19/19 [==============================] - 0s 3ms/step - loss: 0.6193 - accuracy: 0.6578 - val_loss: 0.6936 - val_accuracy: 0.5900\n",
      "Epoch 13/100\n",
      "19/19 [==============================] - 0s 2ms/step - loss: 0.6085 - accuracy: 0.6561 - val_loss: 0.6755 - val_accuracy: 0.5700\n",
      "Epoch 14/100\n",
      "19/19 [==============================] - 0s 2ms/step - loss: 0.6005 - accuracy: 0.6845 - val_loss: 0.7160 - val_accuracy: 0.5700\n",
      "Epoch 14: early stopping\n"
     ]
    },
    {
     "data": {
      "text/plain": [
       "0"
      ]
     },
     "execution_count": 8,
     "metadata": {},
     "output_type": "execute_result"
    }
   ],
   "source": [
    "createModel()"
   ]
  }
 ],
 "metadata": {
  "kernelspec": {
   "display_name": "Python 3",
   "language": "python",
   "name": "python3"
  },
  "language_info": {
   "codemirror_mode": {
    "name": "ipython",
    "version": 3
   },
   "file_extension": ".py",
   "mimetype": "text/x-python",
   "name": "python",
   "nbconvert_exporter": "python",
   "pygments_lexer": "ipython3",
   "version": "3.10.11"
  }
 },
 "nbformat": 4,
 "nbformat_minor": 2
}
