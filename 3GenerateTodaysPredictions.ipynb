{
 "cells": [
  {
   "cell_type": "code",
   "execution_count": 1,
   "metadata": {},
   "outputs": [],
   "source": [
    "from DailyNHLPredictions import makePredictions\n",
    "from datetime import date"
   ]
  },
  {
   "cell_type": "code",
   "execution_count": 2,
   "metadata": {},
   "outputs": [
    {
     "name": "stdout",
     "output_type": "stream",
     "text": [
      "1/1 [==============================] - 0s 99ms/step\n",
      "There is a 58.25% chance that the Anaheim Ducks will defeat the Arizona Coyotes. Anaheim Ducks: -140\n",
      "There is a 60.42% chance that the Calgary Flames will defeat the Dallas Stars. Calgary Flames: -153\n",
      "There is a 63.81% chance that the Colorado Avalanche will defeat the St. Louis Blues. Colorado Avalanche: -176\n",
      "There is a 60.46% chance that the Philadelphia Flyers will defeat the Buffalo Sabres. Philadelphia Flyers: -153\n"
     ]
    }
   ],
   "source": [
    "makePredictions(date.today())"
   ]
  }
 ],
 "metadata": {
  "kernelspec": {
   "display_name": "Python 3",
   "language": "python",
   "name": "python3"
  },
  "language_info": {
   "codemirror_mode": {
    "name": "ipython",
    "version": 3
   },
   "file_extension": ".py",
   "mimetype": "text/x-python",
   "name": "python",
   "nbconvert_exporter": "python",
   "pygments_lexer": "ipython3",
   "version": "3.10.11"
  }
 },
 "nbformat": 4,
 "nbformat_minor": 2
}
