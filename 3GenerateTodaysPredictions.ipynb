{
 "cells": [
  {
   "cell_type": "code",
   "execution_count": 1,
   "metadata": {},
   "outputs": [],
   "source": [
    "from DailyNHLPredictions import makePredictions\n",
    "from datetime import date"
   ]
  },
  {
   "cell_type": "code",
   "execution_count": 2,
   "metadata": {},
   "outputs": [
    {
     "name": "stdout",
     "output_type": "stream",
     "text": [
      "1/1 [==============================] - 0s 100ms/step\n",
      "There is a 50.53% chance that the Arizona Coyotes will defeat the Montreal Canadiens. Arizona Coyotes: -102\n",
      "There is a 71.42% chance that the Boston Bruins will defeat the Toronto Maple Leafs. Boston Bruins: -250\n",
      "There is a 60.36% chance that the Columbus Blue Jackets will defeat the Tampa Bay Lightning. Columbus Blue Jackets: -152\n",
      "There is a 62.66% chance that the Detroit Red Wings will defeat the Florida Panthers. Detroit Red Wings: -168\n",
      "There is a 28.23% chance that the Edmonton Oilers will defeat the Dallas Stars. Edmonton Oilers: +254\n",
      "There is a 66.77% chance that the Minnesota Wild will defeat the New Jersey Devils. Minnesota Wild: -201\n",
      "There is a 38.09% chance that the New York Rangers will defeat the Carolina Hurricanes. New York Rangers: +163\n",
      "There is a 66.66% chance that the Ottawa Senators will defeat the Los Angeles Kings. Ottawa Senators: -200\n",
      "There is a 50.8% chance that the Seattle Kraken will defeat the Nashville Predators. Seattle Kraken: -103\n",
      "There is a 17.08% chance that the San Jose Sharks will defeat the Vancouver Canucks. San Jose Sharks: +485\n",
      "There is a 55.29% chance that the Vegas Golden Knights will defeat the Winnipeg Jets. Vegas Golden Knights: -124\n",
      "There is a 24.57% chance that the Washington Capitals will defeat the New York Islanders. Washington Capitals: +307\n"
     ]
    }
   ],
   "source": [
    "makePredictions(date.today())"
   ]
  }
 ],
 "metadata": {
  "kernelspec": {
   "display_name": "Python 3",
   "language": "python",
   "name": "python3"
  },
  "language_info": {
   "codemirror_mode": {
    "name": "ipython",
    "version": 3
   },
   "file_extension": ".py",
   "mimetype": "text/x-python",
   "name": "python",
   "nbconvert_exporter": "python",
   "pygments_lexer": "ipython3",
   "version": "3.10.11"
  }
 },
 "nbformat": 4,
 "nbformat_minor": 2
}
