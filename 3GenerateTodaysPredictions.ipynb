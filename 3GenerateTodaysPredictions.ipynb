{
 "cells": [
  {
   "cell_type": "code",
   "execution_count": 1,
   "metadata": {},
   "outputs": [],
   "source": [
    "from DailyNHLPredictions import makePredictions\n",
    "from datetime import date"
   ]
  },
  {
   "cell_type": "code",
   "execution_count": 2,
   "metadata": {},
   "outputs": [
    {
     "name": "stdout",
     "output_type": "stream",
     "text": [
      "1/1 [==============================] - 0s 192ms/step\n",
      "Home Win for Anaheim Ducks: 37.91% or +164, Away Win for Pittsburgh Penguins: 62.09% or -164\n",
      "Home Win for Arizona Coyotes: 68.08% or -213, Away Win for Seattle Kraken: 31.92% or +213\n",
      "Home Win for Carolina Hurricanes: 65.9% or -193, Away Win for Buffalo Sabres: 34.1% or +193\n",
      "Home Win for Calgary Flames: 52.46% or -110, Away Win for Nashville Predators: 47.54% or +110\n",
      "Home Win for Colorado Avalanche: 52.34% or -110, Away Win for New Jersey Devils: 47.66% or +110\n",
      "Home Win for Montreal Canadiens: 61.03% or -157, Away Win for Tampa Bay Lightning: 38.97% or +157\n",
      "Home Win for New York Islanders: 67.56% or -208, Away Win for Minnesota Wild: 32.44% or +208\n",
      "Home Win for New York Rangers: 29.74% or +236, Away Win for Detroit Red Wings: 70.26% or -236\n",
      "Home Win for San Jose Sharks: 17.57% or +469, Away Win for Philadelphia Flyers: 82.43% or -469\n",
      "Home Win for St. Louis Blues: 50.01% or -100, Away Win for Winnipeg Jets: 49.99% or +100\n"
     ]
    }
   ],
   "source": [
    "makePredictions(date.today())"
   ]
  }
 ],
 "metadata": {
  "kernelspec": {
   "display_name": "Python 3",
   "language": "python",
   "name": "python3"
  },
  "language_info": {
   "codemirror_mode": {
    "name": "ipython",
    "version": 3
   },
   "file_extension": ".py",
   "mimetype": "text/x-python",
   "name": "python",
   "nbconvert_exporter": "python",
   "pygments_lexer": "ipython3",
   "version": "3.10.11"
  }
 },
 "nbformat": 4,
 "nbformat_minor": 2
}
