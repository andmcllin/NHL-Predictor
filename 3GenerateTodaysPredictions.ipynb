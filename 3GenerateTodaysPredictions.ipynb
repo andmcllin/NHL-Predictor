{
 "cells": [
  {
   "cell_type": "code",
   "execution_count": 1,
   "metadata": {},
   "outputs": [],
   "source": [
    "from DailyNHLPredictions import makePredictions\n",
    "from datetime import date"
   ]
  },
  {
   "cell_type": "code",
   "execution_count": 2,
   "metadata": {},
   "outputs": [
    {
     "name": "stdout",
     "output_type": "stream",
     "text": [
      "1/1 [==============================] - 0s 137ms/step\n",
      "Home Win for Anaheim Ducks: 51.4% or -106, Away Win for Philadelphia Flyers: 48.6% or +106\n",
      "Home Win for Buffalo Sabres: 47.24% or +112, Away Win for Minnesota Wild: 52.76% or -112\n",
      "Home Win for Florida Panthers: 52.11% or -109, Away Win for Carolina Hurricanes: 47.89% or +109\n",
      "Home Win for New Jersey Devils: 56.09% or -128, Away Win for Washington Capitals: 43.91% or +128\n",
      "Home Win for Toronto Maple Leafs: 57.04% or -133, Away Win for Calgary Flames: 42.96% or +133\n",
      "Home Win for Vegas Golden Knights: 80.6% or -415, Away Win for San Jose Sharks: 19.4% or +415\n"
     ]
    }
   ],
   "source": [
    "makePredictions(date.today())"
   ]
  }
 ],
 "metadata": {
  "kernelspec": {
   "display_name": "Python 3",
   "language": "python",
   "name": "python3"
  },
  "language_info": {
   "codemirror_mode": {
    "name": "ipython",
    "version": 3
   },
   "file_extension": ".py",
   "mimetype": "text/x-python",
   "name": "python",
   "nbconvert_exporter": "python",
   "pygments_lexer": "ipython3",
   "version": "3.11.4"
  }
 },
 "nbformat": 4,
 "nbformat_minor": 2
}
