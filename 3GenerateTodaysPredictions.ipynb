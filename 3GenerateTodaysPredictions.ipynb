{
 "cells": [
  {
   "cell_type": "code",
   "execution_count": 1,
   "metadata": {},
   "outputs": [],
   "source": [
    "from DailyNHLPredictions import makePredictions\n",
    "from datetime import date"
   ]
  },
  {
   "cell_type": "code",
   "execution_count": 2,
   "metadata": {},
   "outputs": [
    {
     "name": "stdout",
     "output_type": "stream",
     "text": [
      "1/1 [==============================] - 0s 100ms/step\n",
      "Home Win for Anaheim Ducks: 48.09% or +108, Away Win for Pittsburgh Penguins: 51.91% or -108\n",
      "Home Win for Arizona Coyotes: 65.06% or -186, Away Win for Seattle Kraken: 34.94% or +186\n",
      "Home Win for Carolina Hurricanes: 61.11% or -157, Away Win for Buffalo Sabres: 38.89% or +157\n",
      "Home Win for Calgary Flames: 38.72% or +158, Away Win for Nashville Predators: 61.28% or -158\n",
      "Home Win for Colorado Avalanche: 52.35% or -110, Away Win for New Jersey Devils: 47.65% or +110\n",
      "Home Win for Montreal Canadiens: 59.0% or -144, Away Win for Tampa Bay Lightning: 41.0% or +144\n",
      "Home Win for New York Islanders: 52.57% or -111, Away Win for Minnesota Wild: 47.43% or +111\n",
      "Home Win for New York Rangers: 47.47% or +111, Away Win for Detroit Red Wings: 52.53% or -111\n",
      "Home Win for San Jose Sharks: 32.9% or +204, Away Win for Philadelphia Flyers: 67.1% or -204\n",
      "Home Win for St. Louis Blues: 41.9% or +139, Away Win for Winnipeg Jets: 58.1% or -139\n"
     ]
    }
   ],
   "source": [
    "makePredictions(date.today())"
   ]
  }
 ],
 "metadata": {
  "kernelspec": {
   "display_name": "Python 3",
   "language": "python",
   "name": "python3"
  },
  "language_info": {
   "codemirror_mode": {
    "name": "ipython",
    "version": 3
   },
   "file_extension": ".py",
   "mimetype": "text/x-python",
   "name": "python",
   "nbconvert_exporter": "python",
   "pygments_lexer": "ipython3",
   "version": "3.10.11"
  }
 },
 "nbformat": 4,
 "nbformat_minor": 2
}
