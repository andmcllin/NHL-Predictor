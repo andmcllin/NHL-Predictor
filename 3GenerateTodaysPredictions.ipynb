{
 "cells": [
  {
   "cell_type": "code",
   "execution_count": 1,
   "metadata": {},
   "outputs": [],
   "source": [
    "from DailyNHLPredictions import makePredictions\n",
    "from datetime import date"
   ]
  },
  {
   "cell_type": "code",
   "execution_count": 2,
   "metadata": {},
   "outputs": [
    {
     "name": "stdout",
     "output_type": "stream",
     "text": [
      "1/1 [==============================] - 0s 100ms/step\n",
      "There is a 61.9% chance that the Arizona Coyotes will defeat the Montreal Canadiens. Arizona Coyotes: -162\n",
      "There is a 62.05% chance that the Boston Bruins will defeat the Toronto Maple Leafs. Boston Bruins: -164\n",
      "There is a 46.8% chance that the Columbus Blue Jackets will defeat the Tampa Bay Lightning. Columbus Blue Jackets: +114\n",
      "There is a 70.39% chance that the Detroit Red Wings will defeat the Florida Panthers. Detroit Red Wings: -238\n",
      "There is a 35.13% chance that the Edmonton Oilers will defeat the Dallas Stars. Edmonton Oilers: +185\n",
      "There is a 67.8% chance that the Minnesota Wild will defeat the New Jersey Devils. Minnesota Wild: -211\n",
      "There is a 18.72% chance that the New York Rangers will defeat the Carolina Hurricanes. New York Rangers: +434\n",
      "There is a 38.11% chance that the Ottawa Senators will defeat the Los Angeles Kings. Ottawa Senators: +162\n",
      "There is a 76.32% chance that the Seattle Kraken will defeat the Nashville Predators. Seattle Kraken: -322\n",
      "There is a 19.26% chance that the San Jose Sharks will defeat the Vancouver Canucks. San Jose Sharks: +419\n",
      "There is a 65.49% chance that the Vegas Golden Knights will defeat the Winnipeg Jets. Vegas Golden Knights: -190\n",
      "There is a 11.18% chance that the Washington Capitals will defeat the New York Islanders. Washington Capitals: +794\n"
     ]
    }
   ],
   "source": [
    "makePredictions(date.today())"
   ]
  }
 ],
 "metadata": {
  "kernelspec": {
   "display_name": "Python 3",
   "language": "python",
   "name": "python3"
  },
  "language_info": {
   "codemirror_mode": {
    "name": "ipython",
    "version": 3
   },
   "file_extension": ".py",
   "mimetype": "text/x-python",
   "name": "python",
   "nbconvert_exporter": "python",
   "pygments_lexer": "ipython3",
   "version": "3.10.11"
  }
 },
 "nbformat": 4,
 "nbformat_minor": 2
}
