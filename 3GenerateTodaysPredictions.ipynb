{
 "cells": [
  {
   "cell_type": "code",
   "execution_count": 1,
   "metadata": {},
   "outputs": [],
   "source": [
    "from DailyNHLPredictions import makePredictions\n",
    "from datetime import date"
   ]
  },
  {
   "cell_type": "code",
   "execution_count": 2,
   "metadata": {},
   "outputs": [
    {
     "name": "stdout",
     "output_type": "stream",
     "text": [
      "1/1 [==============================] - 0s 93ms/step\n",
      "Home Win for Dallas Stars: 61.49% or -160, Away Win for Boston Bruins: 38.51% or +160\n",
      "Home Win for Florida Panthers: 65.98% or -194, Away Win for Columbus Blue Jackets: 34.02% or +194\n",
      "Home Win for Toronto Maple Leafs: 65.54% or -190, Away Win for Tampa Bay Lightning: 34.46% or +190\n",
      "Home Win for Vancouver Canucks: 94.43% or -1695, Away Win for Edmonton Oilers: 5.57% or +1695\n"
     ]
    }
   ],
   "source": [
    "makePredictions(date.today())"
   ]
  }
 ],
 "metadata": {
  "kernelspec": {
   "display_name": "Python 3",
   "language": "python",
   "name": "python3"
  },
  "language_info": {
   "codemirror_mode": {
    "name": "ipython",
    "version": 3
   },
   "file_extension": ".py",
   "mimetype": "text/x-python",
   "name": "python",
   "nbconvert_exporter": "python",
   "pygments_lexer": "ipython3",
   "version": "3.10.11"
  }
 },
 "nbformat": 4,
 "nbformat_minor": 2
}
