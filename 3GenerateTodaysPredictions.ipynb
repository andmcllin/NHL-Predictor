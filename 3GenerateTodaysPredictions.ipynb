{
 "cells": [
  {
   "cell_type": "code",
   "execution_count": 1,
   "metadata": {},
   "outputs": [],
   "source": [
    "from DailyNHLPredictions import makePredictions\n",
    "from datetime import date"
   ]
  },
  {
   "cell_type": "code",
   "execution_count": 2,
   "metadata": {},
   "outputs": [
    {
     "name": "stdout",
     "output_type": "stream",
     "text": [
      "1/1 [==============================] - 0s 124ms/step\n",
      "Home Win for Dallas Stars: 47.85% or +109, Away Win for Boston Bruins: 52.15% or -109\n",
      "Home Win for Florida Panthers: 58.93% or -143, Away Win for Columbus Blue Jackets: 41.07% or +143\n",
      "Home Win for Toronto Maple Leafs: 49.26% or +103, Away Win for Tampa Bay Lightning: 50.74% or -103\n",
      "Home Win for Vancouver Canucks: 68.88% or -221, Away Win for Edmonton Oilers: 31.12% or +221\n"
     ]
    }
   ],
   "source": [
    "makePredictions(date.today())"
   ]
  }
 ],
 "metadata": {
  "kernelspec": {
   "display_name": "Python 3",
   "language": "python",
   "name": "python3"
  },
  "language_info": {
   "codemirror_mode": {
    "name": "ipython",
    "version": 3
   },
   "file_extension": ".py",
   "mimetype": "text/x-python",
   "name": "python",
   "nbconvert_exporter": "python",
   "pygments_lexer": "ipython3",
   "version": "3.11.4"
  }
 },
 "nbformat": 4,
 "nbformat_minor": 2
}
